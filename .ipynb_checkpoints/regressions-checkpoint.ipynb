{
 "cells": [
  {
   "cell_type": "markdown",
   "id": "869e51c6",
   "metadata": {},
   "source": [
    "## Task"
   ]
  },
  {
   "cell_type": "markdown",
   "id": "e7809b48",
   "metadata": {},
   "source": [
    "**Main**\n",
    "1. Попробовать самостоятельно найти датасет titanic, загрузить его  \n",
    "2. визуализировать зависимость между возрастом и платой за проезд\n",
    "3. выбрать из датасета только женщин старше 35, отсортировать по возрасту и сохранить данные о них в отдельный CSV (открыть его в том же ноутбуке и вывести) \n",
    "4. На оригинальном датасете построить гистограмму распределения людей по возрасту \n",
    "5. Построить график зависимости стоимости билета от возраста\n",
    "  \n",
    "**Desert**  \n",
    "1. Построить логрег, предсказывая выживаемость из предикторов, по которым строили на курсе по статистике  \n",
    "2. Поиграться с предикторами, попробовать добавить новые + взаимодействия посмотреть"
   ]
  },
  {
   "cell_type": "markdown",
   "id": "eaa85547",
   "metadata": {},
   "source": [
    "## Main"
   ]
  },
  {
   "cell_type": "code",
   "execution_count": 97,
   "id": "974993bf",
   "metadata": {
    "ExecuteTime": {
     "end_time": "2021-10-10T15:55:42.846526Z",
     "start_time": "2021-10-10T15:55:36.552861Z"
    }
   },
   "outputs": [],
   "source": [
    "import numpy as np\n",
    "import pandas as pd\n",
    "\n",
    "import matplotlib.pyplot as plt\n",
    "import seaborn as sns\n",
    "\n",
    "import statsmodels.api as sm \n",
    "import statsmodels.formula.api as sf"
   ]
  },
  {
   "cell_type": "markdown",
   "id": "54c80db8",
   "metadata": {},
   "source": [
    "### Explore Data\n",
    "Попробовать самостоятельно найти датасет titanic, загрузить его"
   ]
  },
  {
   "cell_type": "code",
   "execution_count": 5,
   "id": "8d9cdf2c",
   "metadata": {
    "ExecuteTime": {
     "end_time": "2021-10-10T14:18:34.875780Z",
     "start_time": "2021-10-10T14:18:34.867703Z"
    }
   },
   "outputs": [],
   "source": [
    "df = sns.load_dataset('titanic')"
   ]
  },
  {
   "cell_type": "code",
   "execution_count": 10,
   "id": "e6a20eb5",
   "metadata": {
    "ExecuteTime": {
     "end_time": "2021-10-10T14:21:29.750705Z",
     "start_time": "2021-10-10T14:21:29.736938Z"
    }
   },
   "outputs": [
    {
     "data": {
      "text/html": [
       "<div>\n",
       "<style scoped>\n",
       "    .dataframe tbody tr th:only-of-type {\n",
       "        vertical-align: middle;\n",
       "    }\n",
       "\n",
       "    .dataframe tbody tr th {\n",
       "        vertical-align: top;\n",
       "    }\n",
       "\n",
       "    .dataframe thead th {\n",
       "        text-align: right;\n",
       "    }\n",
       "</style>\n",
       "<table border=\"1\" class=\"dataframe\">\n",
       "  <thead>\n",
       "    <tr style=\"text-align: right;\">\n",
       "      <th></th>\n",
       "      <th>survived</th>\n",
       "      <th>pclass</th>\n",
       "      <th>sex</th>\n",
       "      <th>age</th>\n",
       "      <th>sibsp</th>\n",
       "      <th>parch</th>\n",
       "      <th>fare</th>\n",
       "      <th>embarked</th>\n",
       "      <th>class</th>\n",
       "      <th>who</th>\n",
       "      <th>adult_male</th>\n",
       "      <th>deck</th>\n",
       "      <th>embark_town</th>\n",
       "      <th>alive</th>\n",
       "      <th>alone</th>\n",
       "    </tr>\n",
       "  </thead>\n",
       "  <tbody>\n",
       "    <tr>\n",
       "      <th>0</th>\n",
       "      <td>0</td>\n",
       "      <td>3</td>\n",
       "      <td>male</td>\n",
       "      <td>22.0</td>\n",
       "      <td>1</td>\n",
       "      <td>0</td>\n",
       "      <td>7.2500</td>\n",
       "      <td>S</td>\n",
       "      <td>Third</td>\n",
       "      <td>man</td>\n",
       "      <td>True</td>\n",
       "      <td>NaN</td>\n",
       "      <td>Southampton</td>\n",
       "      <td>no</td>\n",
       "      <td>False</td>\n",
       "    </tr>\n",
       "    <tr>\n",
       "      <th>1</th>\n",
       "      <td>1</td>\n",
       "      <td>1</td>\n",
       "      <td>female</td>\n",
       "      <td>38.0</td>\n",
       "      <td>1</td>\n",
       "      <td>0</td>\n",
       "      <td>71.2833</td>\n",
       "      <td>C</td>\n",
       "      <td>First</td>\n",
       "      <td>woman</td>\n",
       "      <td>False</td>\n",
       "      <td>C</td>\n",
       "      <td>Cherbourg</td>\n",
       "      <td>yes</td>\n",
       "      <td>False</td>\n",
       "    </tr>\n",
       "    <tr>\n",
       "      <th>2</th>\n",
       "      <td>1</td>\n",
       "      <td>3</td>\n",
       "      <td>female</td>\n",
       "      <td>26.0</td>\n",
       "      <td>0</td>\n",
       "      <td>0</td>\n",
       "      <td>7.9250</td>\n",
       "      <td>S</td>\n",
       "      <td>Third</td>\n",
       "      <td>woman</td>\n",
       "      <td>False</td>\n",
       "      <td>NaN</td>\n",
       "      <td>Southampton</td>\n",
       "      <td>yes</td>\n",
       "      <td>True</td>\n",
       "    </tr>\n",
       "    <tr>\n",
       "      <th>3</th>\n",
       "      <td>1</td>\n",
       "      <td>1</td>\n",
       "      <td>female</td>\n",
       "      <td>35.0</td>\n",
       "      <td>1</td>\n",
       "      <td>0</td>\n",
       "      <td>53.1000</td>\n",
       "      <td>S</td>\n",
       "      <td>First</td>\n",
       "      <td>woman</td>\n",
       "      <td>False</td>\n",
       "      <td>C</td>\n",
       "      <td>Southampton</td>\n",
       "      <td>yes</td>\n",
       "      <td>False</td>\n",
       "    </tr>\n",
       "    <tr>\n",
       "      <th>4</th>\n",
       "      <td>0</td>\n",
       "      <td>3</td>\n",
       "      <td>male</td>\n",
       "      <td>35.0</td>\n",
       "      <td>0</td>\n",
       "      <td>0</td>\n",
       "      <td>8.0500</td>\n",
       "      <td>S</td>\n",
       "      <td>Third</td>\n",
       "      <td>man</td>\n",
       "      <td>True</td>\n",
       "      <td>NaN</td>\n",
       "      <td>Southampton</td>\n",
       "      <td>no</td>\n",
       "      <td>True</td>\n",
       "    </tr>\n",
       "  </tbody>\n",
       "</table>\n",
       "</div>"
      ],
      "text/plain": [
       "   survived  pclass     sex   age  sibsp  parch     fare embarked  class  \\\n",
       "0         0       3    male  22.0      1      0   7.2500        S  Third   \n",
       "1         1       1  female  38.0      1      0  71.2833        C  First   \n",
       "2         1       3  female  26.0      0      0   7.9250        S  Third   \n",
       "3         1       1  female  35.0      1      0  53.1000        S  First   \n",
       "4         0       3    male  35.0      0      0   8.0500        S  Third   \n",
       "\n",
       "     who  adult_male deck  embark_town alive  alone  \n",
       "0    man        True  NaN  Southampton    no  False  \n",
       "1  woman       False    C    Cherbourg   yes  False  \n",
       "2  woman       False  NaN  Southampton   yes   True  \n",
       "3  woman       False    C  Southampton   yes  False  \n",
       "4    man        True  NaN  Southampton    no   True  "
      ]
     },
     "execution_count": 10,
     "metadata": {},
     "output_type": "execute_result"
    }
   ],
   "source": [
    "df.head()"
   ]
  },
  {
   "cell_type": "code",
   "execution_count": 7,
   "id": "2a3bde1b",
   "metadata": {
    "ExecuteTime": {
     "end_time": "2021-10-10T14:20:18.102116Z",
     "start_time": "2021-10-10T14:20:18.077671Z"
    }
   },
   "outputs": [
    {
     "data": {
      "text/html": [
       "<div>\n",
       "<style scoped>\n",
       "    .dataframe tbody tr th:only-of-type {\n",
       "        vertical-align: middle;\n",
       "    }\n",
       "\n",
       "    .dataframe tbody tr th {\n",
       "        vertical-align: top;\n",
       "    }\n",
       "\n",
       "    .dataframe thead th {\n",
       "        text-align: right;\n",
       "    }\n",
       "</style>\n",
       "<table border=\"1\" class=\"dataframe\">\n",
       "  <thead>\n",
       "    <tr style=\"text-align: right;\">\n",
       "      <th></th>\n",
       "      <th>survived</th>\n",
       "      <th>pclass</th>\n",
       "      <th>age</th>\n",
       "      <th>sibsp</th>\n",
       "      <th>parch</th>\n",
       "      <th>fare</th>\n",
       "    </tr>\n",
       "  </thead>\n",
       "  <tbody>\n",
       "    <tr>\n",
       "      <th>count</th>\n",
       "      <td>891.000000</td>\n",
       "      <td>891.000000</td>\n",
       "      <td>714.000000</td>\n",
       "      <td>891.000000</td>\n",
       "      <td>891.000000</td>\n",
       "      <td>891.000000</td>\n",
       "    </tr>\n",
       "    <tr>\n",
       "      <th>mean</th>\n",
       "      <td>0.383838</td>\n",
       "      <td>2.308642</td>\n",
       "      <td>29.699118</td>\n",
       "      <td>0.523008</td>\n",
       "      <td>0.381594</td>\n",
       "      <td>32.204208</td>\n",
       "    </tr>\n",
       "    <tr>\n",
       "      <th>std</th>\n",
       "      <td>0.486592</td>\n",
       "      <td>0.836071</td>\n",
       "      <td>14.526497</td>\n",
       "      <td>1.102743</td>\n",
       "      <td>0.806057</td>\n",
       "      <td>49.693429</td>\n",
       "    </tr>\n",
       "    <tr>\n",
       "      <th>min</th>\n",
       "      <td>0.000000</td>\n",
       "      <td>1.000000</td>\n",
       "      <td>0.420000</td>\n",
       "      <td>0.000000</td>\n",
       "      <td>0.000000</td>\n",
       "      <td>0.000000</td>\n",
       "    </tr>\n",
       "    <tr>\n",
       "      <th>25%</th>\n",
       "      <td>0.000000</td>\n",
       "      <td>2.000000</td>\n",
       "      <td>20.125000</td>\n",
       "      <td>0.000000</td>\n",
       "      <td>0.000000</td>\n",
       "      <td>7.910400</td>\n",
       "    </tr>\n",
       "    <tr>\n",
       "      <th>50%</th>\n",
       "      <td>0.000000</td>\n",
       "      <td>3.000000</td>\n",
       "      <td>28.000000</td>\n",
       "      <td>0.000000</td>\n",
       "      <td>0.000000</td>\n",
       "      <td>14.454200</td>\n",
       "    </tr>\n",
       "    <tr>\n",
       "      <th>75%</th>\n",
       "      <td>1.000000</td>\n",
       "      <td>3.000000</td>\n",
       "      <td>38.000000</td>\n",
       "      <td>1.000000</td>\n",
       "      <td>0.000000</td>\n",
       "      <td>31.000000</td>\n",
       "    </tr>\n",
       "    <tr>\n",
       "      <th>max</th>\n",
       "      <td>1.000000</td>\n",
       "      <td>3.000000</td>\n",
       "      <td>80.000000</td>\n",
       "      <td>8.000000</td>\n",
       "      <td>6.000000</td>\n",
       "      <td>512.329200</td>\n",
       "    </tr>\n",
       "  </tbody>\n",
       "</table>\n",
       "</div>"
      ],
      "text/plain": [
       "         survived      pclass         age       sibsp       parch        fare\n",
       "count  891.000000  891.000000  714.000000  891.000000  891.000000  891.000000\n",
       "mean     0.383838    2.308642   29.699118    0.523008    0.381594   32.204208\n",
       "std      0.486592    0.836071   14.526497    1.102743    0.806057   49.693429\n",
       "min      0.000000    1.000000    0.420000    0.000000    0.000000    0.000000\n",
       "25%      0.000000    2.000000   20.125000    0.000000    0.000000    7.910400\n",
       "50%      0.000000    3.000000   28.000000    0.000000    0.000000   14.454200\n",
       "75%      1.000000    3.000000   38.000000    1.000000    0.000000   31.000000\n",
       "max      1.000000    3.000000   80.000000    8.000000    6.000000  512.329200"
      ]
     },
     "execution_count": 7,
     "metadata": {},
     "output_type": "execute_result"
    }
   ],
   "source": [
    "df.describe()"
   ]
  },
  {
   "cell_type": "markdown",
   "id": "fb7d2240",
   "metadata": {},
   "source": [
    "### Correlations\n",
    "визуализировать зависимость между возрастом и платой за проезд"
   ]
  },
  {
   "cell_type": "code",
   "execution_count": 14,
   "id": "5443cbbc",
   "metadata": {
    "ExecuteTime": {
     "end_time": "2021-10-10T14:28:11.678275Z",
     "start_time": "2021-10-10T14:28:11.668952Z"
    }
   },
   "outputs": [
    {
     "data": {
      "text/html": [
       "<div>\n",
       "<style scoped>\n",
       "    .dataframe tbody tr th:only-of-type {\n",
       "        vertical-align: middle;\n",
       "    }\n",
       "\n",
       "    .dataframe tbody tr th {\n",
       "        vertical-align: top;\n",
       "    }\n",
       "\n",
       "    .dataframe thead th {\n",
       "        text-align: right;\n",
       "    }\n",
       "</style>\n",
       "<table border=\"1\" class=\"dataframe\">\n",
       "  <thead>\n",
       "    <tr style=\"text-align: right;\">\n",
       "      <th></th>\n",
       "      <th>age</th>\n",
       "      <th>fare</th>\n",
       "      <th>class</th>\n",
       "      <th>sex</th>\n",
       "      <th>alone</th>\n",
       "      <th>alive</th>\n",
       "    </tr>\n",
       "  </thead>\n",
       "  <tbody>\n",
       "    <tr>\n",
       "      <th>0</th>\n",
       "      <td>22.0</td>\n",
       "      <td>7.2500</td>\n",
       "      <td>Third</td>\n",
       "      <td>male</td>\n",
       "      <td>False</td>\n",
       "      <td>no</td>\n",
       "    </tr>\n",
       "    <tr>\n",
       "      <th>1</th>\n",
       "      <td>38.0</td>\n",
       "      <td>71.2833</td>\n",
       "      <td>First</td>\n",
       "      <td>female</td>\n",
       "      <td>False</td>\n",
       "      <td>yes</td>\n",
       "    </tr>\n",
       "  </tbody>\n",
       "</table>\n",
       "</div>"
      ],
      "text/plain": [
       "    age     fare  class     sex  alone alive\n",
       "0  22.0   7.2500  Third    male  False    no\n",
       "1  38.0  71.2833  First  female  False   yes"
      ]
     },
     "execution_count": 14,
     "metadata": {},
     "output_type": "execute_result"
    }
   ],
   "source": [
    "df_ = df[['age', 'fare', 'class', 'sex', 'alone', 'alive']]\n",
    "df_.head(2)"
   ]
  },
  {
   "cell_type": "code",
   "execution_count": 66,
   "id": "33432ddd",
   "metadata": {
    "ExecuteTime": {
     "end_time": "2021-10-10T14:50:11.282393Z",
     "start_time": "2021-10-10T14:50:11.125878Z"
    }
   },
   "outputs": [
    {
     "data": {
      "image/png": "[encoded data removed]",
      "text/plain": [
       "<Figure size 504x360 with 1 Axes>"
      ]
     },
     "metadata": {
      "needs_background": "light"
     },
     "output_type": "display_data"
    }
   ],
   "source": [
    "plt.figure(figsize=(7,5))\n",
    "g = sns.scatterplot(data = df_, x='age', y='fare')"
   ]
  },
  {
   "cell_type": "code",
   "execution_count": 56,
   "id": "0054a0b1",
   "metadata": {
    "ExecuteTime": {
     "end_time": "2021-10-10T14:43:03.216214Z",
     "start_time": "2021-10-10T14:43:02.979429Z"
    }
   },
   "outputs": [
    {
     "data": {
      "image/png": "[encoded data removed]",
      "text/plain": [
       "<Figure size 720x504 with 1 Axes>"
      ]
     },
     "metadata": {
      "needs_background": "light"
     },
     "output_type": "display_data"
    }
   ],
   "source": [
    "plt.figure(figsize=(10,7))\n",
    "g = sns.scatterplot(data = df_, x='age', y='fare', hue = 'class')\n",
    "g.set_title('Closer look at main data')\n",
    "a = g.set(ylim=(0, 100))"
   ]
  },
  {
   "cell_type": "code",
   "execution_count": 65,
   "id": "c37a32b3",
   "metadata": {
    "ExecuteTime": {
     "end_time": "2021-10-10T14:48:39.084622Z",
     "start_time": "2021-10-10T14:48:38.955279Z"
    }
   },
   "outputs": [
    {
     "data": {
      "text/plain": [
       "[(0.0, 300.0)]"
      ]
     },
     "execution_count": 65,
     "metadata": {},
     "output_type": "execute_result"
    },
    {
     "data": {
      "image/png": "[encoded data removed]",
      "text/plain": [
       "<Figure size 432x288 with 1 Axes>"
      ]
     },
     "metadata": {
      "needs_background": "light"
     },
     "output_type": "display_data"
    }
   ],
   "source": [
    "sns.stripplot(data = df_, x = 'class', y = 'fare').set(ylim = (0, 300))"
   ]
  },
  {
   "cell_type": "code",
   "execution_count": 70,
   "id": "541dfbef",
   "metadata": {
    "ExecuteTime": {
     "end_time": "2021-10-10T14:51:42.902532Z",
     "start_time": "2021-10-10T14:51:42.790869Z"
    }
   },
   "outputs": [
    {
     "data": {
      "text/plain": [
       "[(0.0, 50.0)]"
      ]
     },
     "execution_count": 70,
     "metadata": {},
     "output_type": "execute_result"
    },
    {
     "data": {
      "image/png": "[encoded data removed]",
      "text/plain": [
       "<Figure size 432x288 with 1 Axes>"
      ]
     },
     "metadata": {
      "needs_background": "light"
     },
     "output_type": "display_data"
    }
   ],
   "source": [
    "sns.stripplot(data = df_, x = 'alone', y = 'fare').set(ylim = (0, 50))"
   ]
  },
  {
   "cell_type": "markdown",
   "id": "c2dfec1f",
   "metadata": {},
   "source": [
    "**Resume**  \n",
    "- Между возрастом и ценой билета вообще нету корреляции\n",
    "\n",
    "Observations:\n",
    "- Цена билета ожидаемо сильно зависит от класса билета, НО есть много кейсов, когда билеты второго класса дешевле билетов третьего, а билеты первого дешевле билетов второго (и даже третьего!)\n",
    "- При этом цены на третий и второй класс строго останавливаются на отметке ~70 USD, а третий класс продается и за 200-300 USD\n",
    "- бесплатно билет доставлся только людям у которых есть отметка 'alone'\n",
    "\n",
    "Artefacts: \n",
    "- 2 пассажира купили билеты за 500 рублей\n",
    "- некоторым людям билеты достались бесплатно, причем даже в первый класс"
   ]
  },
  {
   "cell_type": "markdown",
   "id": "9faaa0ac",
   "metadata": {},
   "source": [
    "### Query\n",
    "выбрать из датасета только женщин старше 35, отсортировать по возрасту и сохранить данные о них в отдельный CSV (открыть его в том же ноутбуке и вывести)"
   ]
  },
  {
   "cell_type": "code",
   "execution_count": 80,
   "id": "cb1ba56f",
   "metadata": {
    "ExecuteTime": {
     "end_time": "2021-10-10T14:57:36.620062Z",
     "start_time": "2021-10-10T14:57:36.611122Z"
    }
   },
   "outputs": [],
   "source": [
    "df.query('sex == \"female\" and age > 35').sort_values(['age']).to_csv('./data/female_age_35+.csv')"
   ]
  },
  {
   "cell_type": "code",
   "execution_count": 84,
   "id": "caf84c77",
   "metadata": {
    "ExecuteTime": {
     "end_time": "2021-10-10T14:58:31.835052Z",
     "start_time": "2021-10-10T14:58:31.818168Z"
    }
   },
   "outputs": [
    {
     "data": {
      "text/html": [
       "<div>\n",
       "<style scoped>\n",
       "    .dataframe tbody tr th:only-of-type {\n",
       "        vertical-align: middle;\n",
       "    }\n",
       "\n",
       "    .dataframe tbody tr th {\n",
       "        vertical-align: top;\n",
       "    }\n",
       "\n",
       "    .dataframe thead th {\n",
       "        text-align: right;\n",
       "    }\n",
       "</style>\n",
       "<table border=\"1\" class=\"dataframe\">\n",
       "  <thead>\n",
       "    <tr style=\"text-align: right;\">\n",
       "      <th></th>\n",
       "      <th>survived</th>\n",
       "      <th>pclass</th>\n",
       "      <th>sex</th>\n",
       "      <th>age</th>\n",
       "      <th>sibsp</th>\n",
       "      <th>parch</th>\n",
       "      <th>fare</th>\n",
       "      <th>embarked</th>\n",
       "      <th>class</th>\n",
       "      <th>who</th>\n",
       "      <th>adult_male</th>\n",
       "      <th>deck</th>\n",
       "      <th>embark_town</th>\n",
       "      <th>alive</th>\n",
       "      <th>alone</th>\n",
       "    </tr>\n",
       "  </thead>\n",
       "  <tbody>\n",
       "    <tr>\n",
       "      <th>0</th>\n",
       "      <td>1</td>\n",
       "      <td>1</td>\n",
       "      <td>female</td>\n",
       "      <td>36.0</td>\n",
       "      <td>0</td>\n",
       "      <td>0</td>\n",
       "      <td>135.6333</td>\n",
       "      <td>C</td>\n",
       "      <td>First</td>\n",
       "      <td>woman</td>\n",
       "      <td>False</td>\n",
       "      <td>C</td>\n",
       "      <td>Cherbourg</td>\n",
       "      <td>yes</td>\n",
       "      <td>True</td>\n",
       "    </tr>\n",
       "    <tr>\n",
       "      <th>1</th>\n",
       "      <td>1</td>\n",
       "      <td>1</td>\n",
       "      <td>female</td>\n",
       "      <td>36.0</td>\n",
       "      <td>1</td>\n",
       "      <td>2</td>\n",
       "      <td>120.0000</td>\n",
       "      <td>S</td>\n",
       "      <td>First</td>\n",
       "      <td>woman</td>\n",
       "      <td>False</td>\n",
       "      <td>B</td>\n",
       "      <td>Southampton</td>\n",
       "      <td>yes</td>\n",
       "      <td>False</td>\n",
       "    </tr>\n",
       "    <tr>\n",
       "      <th>2</th>\n",
       "      <td>1</td>\n",
       "      <td>2</td>\n",
       "      <td>female</td>\n",
       "      <td>36.0</td>\n",
       "      <td>0</td>\n",
       "      <td>0</td>\n",
       "      <td>13.0000</td>\n",
       "      <td>S</td>\n",
       "      <td>Second</td>\n",
       "      <td>woman</td>\n",
       "      <td>False</td>\n",
       "      <td>NaN</td>\n",
       "      <td>Southampton</td>\n",
       "      <td>yes</td>\n",
       "      <td>True</td>\n",
       "    </tr>\n",
       "    <tr>\n",
       "      <th>3</th>\n",
       "      <td>1</td>\n",
       "      <td>2</td>\n",
       "      <td>female</td>\n",
       "      <td>36.0</td>\n",
       "      <td>1</td>\n",
       "      <td>0</td>\n",
       "      <td>26.0000</td>\n",
       "      <td>S</td>\n",
       "      <td>Second</td>\n",
       "      <td>woman</td>\n",
       "      <td>False</td>\n",
       "      <td>NaN</td>\n",
       "      <td>Southampton</td>\n",
       "      <td>yes</td>\n",
       "      <td>False</td>\n",
       "    </tr>\n",
       "    <tr>\n",
       "      <th>4</th>\n",
       "      <td>1</td>\n",
       "      <td>1</td>\n",
       "      <td>female</td>\n",
       "      <td>36.0</td>\n",
       "      <td>0</td>\n",
       "      <td>2</td>\n",
       "      <td>71.0000</td>\n",
       "      <td>S</td>\n",
       "      <td>First</td>\n",
       "      <td>woman</td>\n",
       "      <td>False</td>\n",
       "      <td>B</td>\n",
       "      <td>Southampton</td>\n",
       "      <td>yes</td>\n",
       "      <td>False</td>\n",
       "    </tr>\n",
       "  </tbody>\n",
       "</table>\n",
       "</div>"
      ],
      "text/plain": [
       "   survived  pclass     sex   age  sibsp  parch      fare embarked   class  \\\n",
       "0         1       1  female  36.0      0      0  135.6333        C   First   \n",
       "1         1       1  female  36.0      1      2  120.0000        S   First   \n",
       "2         1       2  female  36.0      0      0   13.0000        S  Second   \n",
       "3         1       2  female  36.0      1      0   26.0000        S  Second   \n",
       "4         1       1  female  36.0      0      2   71.0000        S   First   \n",
       "\n",
       "     who  adult_male deck  embark_town alive  alone  \n",
       "0  woman       False    C    Cherbourg   yes   True  \n",
       "1  woman       False    B  Southampton   yes  False  \n",
       "2  woman       False  NaN  Southampton   yes   True  \n",
       "3  woman       False  NaN  Southampton   yes  False  \n",
       "4  woman       False    B  Southampton   yes  False  "
      ]
     },
     "execution_count": 84,
     "metadata": {},
     "output_type": "execute_result"
    }
   ],
   "source": [
    "pd.read_csv('./data/female_age_35+.csv').drop(['Unnamed: 0'], 1).head(5)"
   ]
  },
  {
   "cell_type": "markdown",
   "id": "da9b43b2",
   "metadata": {},
   "source": [
    "### Age\n",
    "На оригинальном датасете построить гистограмму распределения людей по возрасту"
   ]
  },
  {
   "cell_type": "code",
   "execution_count": 87,
   "id": "bc92edb0",
   "metadata": {
    "ExecuteTime": {
     "end_time": "2021-10-10T15:05:32.394090Z",
     "start_time": "2021-10-10T15:05:32.375991Z"
    }
   },
   "outputs": [
    {
     "data": {
      "text/plain": [
       "count    714.000000\n",
       "mean      29.699118\n",
       "std       14.526497\n",
       "min        0.420000\n",
       "25%       20.125000\n",
       "50%       28.000000\n",
       "75%       38.000000\n",
       "max       80.000000\n",
       "Name: age, dtype: float64"
      ]
     },
     "execution_count": 87,
     "metadata": {},
     "output_type": "execute_result"
    }
   ],
   "source": [
    "df.describe().age"
   ]
  },
  {
   "cell_type": "code",
   "execution_count": 96,
   "id": "581c8b18",
   "metadata": {
    "ExecuteTime": {
     "end_time": "2021-10-10T15:11:02.446540Z",
     "start_time": "2021-10-10T15:11:02.195502Z"
    }
   },
   "outputs": [
    {
     "data": {
      "text/plain": [
       "<AxesSubplot:xlabel='age', ylabel='Count'>"
      ]
     },
     "execution_count": 96,
     "metadata": {},
     "output_type": "execute_result"
    },
    {
     "data": {
      "image/png": "[encoded data removed]",
      "text/plain": [
       "<Figure size 432x288 with 1 Axes>"
      ]
     },
     "metadata": {
      "needs_background": "light"
     },
     "output_type": "display_data"
    }
   ],
   "source": [
    "sns.histplot(data=df, x = 'age', hue = 'alive')"
   ]
  },
  {
   "cell_type": "markdown",
   "id": "61d2df53",
   "metadata": {},
   "source": [
    "**Resume**  \n",
    "- Возраст распределен нормально + имеет пик в малышах до 5 лет\n",
    "- дети до 5 лет выживали сильно чаще среднего\n",
    "\n",
    "Observations:\n",
    "- most of the passangers are adult, 20-50\n",
    "- a lot of childs < 5 years\n",
    "- дети до 5 лет выживали сильно чаще среднего\n",
    "\n",
    "Artefacts: \n"
   ]
  },
  {
   "cell_type": "markdown",
   "id": "b88a208a",
   "metadata": {},
   "source": [
    "### ?\n",
    "Построить график зависимости стоимости билета от возраста\n",
    "\n",
    "Тоже самое что и пункт 2?"
   ]
  },
  {
   "cell_type": "markdown",
   "id": "25508f11",
   "metadata": {},
   "source": [
    "## Desert"
   ]
  },
  {
   "cell_type": "markdown",
   "id": "7f66b269",
   "metadata": {},
   "source": [
    "### Logistic regression"
   ]
  },
  {
   "cell_type": "code",
   "execution_count": 163,
   "id": "210c38b5",
   "metadata": {
    "ExecuteTime": {
     "end_time": "2021-10-10T16:56:41.759430Z",
     "start_time": "2021-10-10T16:56:41.734863Z"
    }
   },
   "outputs": [],
   "source": [
    "# определяем значимость влияния класса пассажира и его пола на веростность выживаемости\n",
    "model = sf.glm('survived ~ C(pclass) + C(sex) + C(pclass)*C(sex)', df, family = sm.families.Binomial()).fit()"
   ]
  },
  {
   "cell_type": "code",
   "execution_count": 164,
   "id": "8c29b995",
   "metadata": {
    "ExecuteTime": {
     "end_time": "2021-10-10T16:56:42.680159Z",
     "start_time": "2021-10-10T16:56:42.673031Z"
    }
   },
   "outputs": [
    {
     "name": "stdout",
     "output_type": "stream",
     "text": [
      "                 Generalized Linear Model Regression Results                  \n",
      "==============================================================================\n",
      "Dep. Variable:               survived   No. Observations:                  891\n",
      "Model:                            GLM   Df Residuals:                      885\n",
      "Model Family:                Binomial   Df Model:                            5\n",
      "Link Function:                  logit   Scale:                          1.0000\n",
      "Method:                          IRLS   Log-Likelihood:                -399.05\n",
      "Date:                Sun, 10 Oct 2021   Deviance:                       798.10\n",
      "Time:                        19:56:42   Pearson chi2:                     891.\n",
      "No. Iterations:                     6                                         \n",
      "Covariance Type:            nonrobust                                         \n",
      "=================================================================================================\n",
      "                                    coef    std err          z      P>|z|      [0.025      0.975]\n",
      "-------------------------------------------------------------------------------------------------\n",
      "Intercept                         3.4122      0.587      5.815      0.000       2.262       4.562\n",
      "C(pclass)[T.2]                   -0.9555      0.725     -1.318      0.187      -2.376       0.465\n",
      "C(pclass)[T.3]                   -3.4122      0.610     -5.594      0.000      -4.608      -2.217\n",
      "C(sex)[T.male]                   -3.9494      0.616     -6.411      0.000      -5.157      -2.742\n",
      "C(pclass)[T.2]:C(sex)[T.male]    -0.1850      0.794     -0.233      0.816      -1.741       1.371\n",
      "C(pclass)[T.3]:C(sex)[T.male]     2.0958      0.657      3.189      0.001       0.808       3.384\n",
      "=================================================================================================\n"
     ]
    }
   ],
   "source": [
    "print(model.summary())"
   ]
  },
  {
   "cell_type": "markdown",
   "id": "ff088093",
   "metadata": {},
   "source": [
    "log of chances -> propability\n",
    "![logit func](https://upload.wikimedia.org/wikipedia/commons/c/c8/Logit.svg)"
   ]
  },
  {
   "cell_type": "markdown",
   "id": "83f68fdf",
   "metadata": {},
   "source": [
    "### Linear regression"
   ]
  },
  {
   "cell_type": "markdown",
   "id": "55beb67d",
   "metadata": {},
   "source": [
    "Lets look at contibutors to the fare price with linear regression"
   ]
  },
  {
   "cell_type": "code",
   "execution_count": 159,
   "id": "d768ce78",
   "metadata": {
    "ExecuteTime": {
     "end_time": "2021-10-10T16:44:33.079818Z",
     "start_time": "2021-10-10T16:44:33.057163Z"
    }
   },
   "outputs": [],
   "source": [
    "model_2 = sf.ols('fare ~ C(pclass) + age + C(embark_town) + C(parch)', df).fit()"
   ]
  },
  {
   "cell_type": "code",
   "execution_count": 160,
   "id": "fbd15edd",
   "metadata": {
    "ExecuteTime": {
     "end_time": "2021-10-10T16:44:33.909469Z",
     "start_time": "2021-10-10T16:44:33.896928Z"
    }
   },
   "outputs": [
    {
     "name": "stdout",
     "output_type": "stream",
     "text": [
      "                            OLS Regression Results                            \n",
      "==============================================================================\n",
      "Dep. Variable:                   fare   R-squared:                       0.432\n",
      "Model:                            OLS   Adj. R-squared:                  0.423\n",
      "Method:                 Least Squares   F-statistic:                     48.48\n",
      "Date:                Sun, 10 Oct 2021   Prob (F-statistic):           1.06e-78\n",
      "Time:                        19:44:33   Log-Likelihood:                -3634.2\n",
      "No. Observations:                 712   AIC:                             7292.\n",
      "Df Residuals:                     700   BIC:                             7347.\n",
      "Df Model:                          11                                         \n",
      "Covariance Type:            nonrobust                                         \n",
      "=================================================================================================\n",
      "                                    coef    std err          t      P>|t|      [0.025      0.975]\n",
      "-------------------------------------------------------------------------------------------------\n",
      "Intercept                        99.3740      6.303     15.766      0.000      86.999     111.749\n",
      "C(pclass)[T.2]                  -63.1417      4.609    -13.701      0.000     -72.190     -54.093\n",
      "C(pclass)[T.3]                  -73.2206      4.268    -17.157      0.000     -81.599     -64.842\n",
      "C(embark_town)[T.Queenstown]    -11.8242      8.642     -1.368      0.172     -28.792       5.143\n",
      "C(embark_town)[T.Southampton]   -15.3492      4.182     -3.670      0.000     -23.561      -7.137\n",
      "C(parch)[T.1]                    16.3429      4.353      3.755      0.000       7.797      24.889\n",
      "C(parch)[T.2]                    32.7211      5.541      5.906      0.000      21.843      43.599\n",
      "C(parch)[T.3]                    15.8417     18.101      0.875      0.382     -19.697      51.380\n",
      "C(parch)[T.4]                    66.3083     20.281      3.270      0.001      26.490     106.127\n",
      "C(parch)[T.5]                    30.2453     18.213      1.661      0.097      -5.514      66.004\n",
      "C(parch)[T.6]                    46.1925     40.313      1.146      0.252     -32.957     125.342\n",
      "age                              -0.2348      0.123     -1.913      0.056      -0.476       0.006\n",
      "==============================================================================\n",
      "Omnibus:                      816.543   Durbin-Watson:                   2.008\n",
      "Prob(Omnibus):                  0.000   Jarque-Bera (JB):            78784.680\n",
      "Skew:                           5.453   Prob(JB):                         0.00\n",
      "Kurtosis:                      53.366   Cond. No.                         884.\n",
      "==============================================================================\n",
      "\n",
      "Notes:\n",
      "[1] Standard Errors assume that the covariance matrix of the errors is correctly specified.\n"
     ]
    }
   ],
   "source": [
    "print(model_2.summary())"
   ]
  },
  {
   "cell_type": "markdown",
   "id": "a4894348",
   "metadata": {},
   "source": [
    "**Contributors to fare**:\n",
    "1. pclass: strong + precise\n",
    "2. parch: medium + imprecise\n",
    "3. embarked town: small + kind of precise  \n",
    "    Southampton\n",
    "    \n",
    "**next step**:  \n",
    "1. накинуть какой импакт дает предиктор, если его сдвинуть адекватно бизнес реалиям (вывести влияние на зависимую переменную от примерно равного по сложности реализации сдвига каждого из предикторов)  \n",
    "2. приоретизировать важность предикторов по этому влиянию"
   ]
  }
 ],
 "metadata": {
  "kernelspec": {
   "display_name": "Python 3",
   "language": "python",
   "name": "python3"
  },
  "language_info": {
   "codemirror_mode": {
    "name": "ipython",
    "version": 3
   },
   "file_extension": ".py",
   "mimetype": "text/x-python",
   "name": "python",
   "nbconvert_exporter": "python",
   "pygments_lexer": "ipython3",
   "version": "3.8.8"
  },
  "toc": {
   "base_numbering": 1,
   "nav_menu": {},
   "number_sections": true,
   "sideBar": true,
   "skip_h1_title": false,
   "title_cell": "Table of Contents",
   "title_sidebar": "Contents",
   "toc_cell": false,
   "toc_position": {
    "height": "calc(100% - 180px)",
    "left": "10px",
    "top": "150px",
    "width": "228.466px"
   },
   "toc_section_display": true,
   "toc_window_display": true
  },
  "varInspector": {
   "cols": {
    "lenName": 16,
    "lenType": 16,
    "lenVar": 40
   },
   "kernels_config": {
    "python": {
     "delete_cmd_postfix": "",
     "delete_cmd_prefix": "del ",
     "library": "var_list.py",
     "varRefreshCmd": "print(var_dic_list())"
    },
    "r": {
     "delete_cmd_postfix": ") ",
     "delete_cmd_prefix": "rm(",
     "library": "var_list.r",
     "varRefreshCmd": "cat(var_dic_list()) "
    }
   },
   "types_to_exclude": [
    "module",
    "function",
    "builtin_function_or_method",
    "instance",
    "_Feature"
   ],
   "window_display": false
  }
 },
 "nbformat": 4,
 "nbformat_minor": 5
}
